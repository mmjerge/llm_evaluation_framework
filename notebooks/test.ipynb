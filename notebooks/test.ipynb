{
 "cells": [
  {
   "cell_type": "code",
   "execution_count": 2,
   "metadata": {},
   "outputs": [],
   "source": [
    "import json\n",
    "import re\n",
    "import pandas as pd\n",
    "import neo4j\n"
   ]
  },
  {
   "cell_type": "code",
   "execution_count": 25,
   "metadata": {},
   "outputs": [],
   "source": [
    "NEO4J_URI = \"neo4j+s://023fca8e.databases.neo4j.io:7687\"\n",
    "NEO4J_USERNAME = \"neo4j\"\n",
    "NEO4J_PASSWORD = \"XopDQ_W2ToQfo9fdgob8Zx4-piYAOK-qt26Ses0CBK0\"\n",
    "driver = neo4j.GraphDatabase.driver((NEO4J_URI), auth=(NEO4J_USERNAME, NEO4J_PASSWORD))\n",
    "\n",
    "\n",
    "def find_simple_path(start_id, end_id, driver):\n",
    "    with driver.session() as session:\n",
    "        result = session.run(\"\"\"\n",
    "        MATCH path = (start:Token {id: $startId})-[:NEXT*..3]->(end:Token {id: $endId})\n",
    "        RETURN path\n",
    "        LIMIT 1\n",
    "        \"\"\", {\"startId\": start_id, \"endId\": end_id})\n",
    "        \n",
    "        return [record[\"path\"] for record in result]"
   ]
  },
  {
   "cell_type": "code",
   "execution_count": 26,
   "metadata": {},
   "outputs": [],
   "source": [
    "# Example usage\n",
    "start_node_id = 150\n",
    "end_node_id = 200\n",
    "path = find_simple_path(start_node_id, end_node_id, driver)"
   ]
  },
  {
   "cell_type": "code",
   "execution_count": 27,
   "metadata": {},
   "outputs": [
    {
     "name": "stdout",
     "output_type": "stream",
     "text": [
      "[]\n"
     ]
    }
   ],
   "source": [
    "print(path)"
   ]
  },
  {
   "cell_type": "code",
   "execution_count": 7,
   "metadata": {},
   "outputs": [],
   "source": [
    "# Step 2: Extract relevant data for a specific question and model\n",
    "def get_model_data(data, question, model_name):\n",
    "    # Navigate through the dictionary to get to the relevant data\n",
    "    # This assumes the data structure is {question: {model_name: data}}\n",
    "    return data.get(question, {}).get(model_name)"
   ]
  },
  {
   "cell_type": "code",
   "execution_count": null,
   "metadata": {},
   "outputs": [],
   "source": []
  },
  {
   "cell_type": "code",
   "execution_count": 5,
   "metadata": {},
   "outputs": [],
   "source": [
    "with open(\"/p/llmreliability/llm_reliability/notebooks/combined_agent_responses.json\", \"r\") as file:\n",
    "    new_combined_data = json.load(file)\n",
    "\n",
    "with open(\"/p/llmreliability/llm_reliability/experiments/truthful_qa/phi2_agent_responses.json\", \"r\") as file:\n",
    "    phi2_data = json.load(file)\n",
    "\n",
    "merged_data = {}\n",
    "for key in new_combined_data:\n",
    "    merged_data[key] = {**new_combined_data[key], **phi2_data.get(key, {})}\n",
    "\n",
    "with open(\"combined_agent_responses.json\", \"w\") as file:\n",
    "    json.dump(merged_data, file, indent=4)"
   ]
  },
  {
   "cell_type": "code",
   "execution_count": 5,
   "metadata": {},
   "outputs": [],
   "source": [
    "from openai import OpenAI"
   ]
  },
  {
   "cell_type": "code",
   "execution_count": 6,
   "metadata": {},
   "outputs": [],
   "source": [
    "NEO4J_URI = \"neo4j+s://023fca8e.databases.neo4j.io:7687\"\n",
    "NEO4J_USERNAME = \"neo4j\"\n",
    "NEO4J_PASSWORD = \"XopDQ_W2ToQfo9fdgob8Zx4-piYAOK-qt26Ses0CBK0\"\n",
    "agent = GPT35Agent(\"gpt-3.5-turbo\", NEO4J_URI, NEO4J_USERNAME, NEO4J_PASSWORD)"
   ]
  },
  {
   "cell_type": "code",
   "execution_count": 7,
   "metadata": {},
   "outputs": [],
   "source": [
    "chat = agent.start_chat(\"What is your name?\")"
   ]
  },
  {
   "cell_type": "code",
   "execution_count": 13,
   "metadata": {},
   "outputs": [
    {
     "name": "stdout",
     "output_type": "stream",
     "text": [
      "ChatCompletionTokenLogprob(token='I', bytes=[73], logprob=-0.013185526, top_logprobs=[])\n"
     ]
    }
   ],
   "source": [
    "print(chat.choices[0].logprobs.content[0])"
   ]
  },
  {
   "cell_type": "code",
   "execution_count": 14,
   "metadata": {},
   "outputs": [
    {
     "name": "stdout",
     "output_type": "stream",
     "text": [
      "Token: I, logprob: -0.013185526\n"
     ]
    }
   ],
   "source": [
    "token = chat.choices[0].logprobs.content[0].token\n",
    "logprob = chat.choices[0].logprobs.content[0].logprob\n",
    "print(f\"Token: {token}, logprob: {logprob}\")"
   ]
  },
  {
   "cell_type": "code",
   "execution_count": 24,
   "metadata": {},
   "outputs": [
    {
     "name": "stdout",
     "output_type": "stream",
     "text": [
      "[{0: {'I': -0.013185526}}, {1: {' am': -0.006949799}}, {2: {' an': -0.029553989}}, {3: {' AI': -0.04122343}}, {4: {' language': -0.10031774}}, {5: {' model': -1.6240566e-06}}, {6: {' developed': -0.7675771}}, {7: {' by': -2.7729659e-05}}, {8: {' Open': -4.9617593e-06}}, {9: {'AI': -1.7835755e-05}}, {10: {',': -0.5865378}}, {11: {' and': -0.7668359}}, {12: {' I': -0.05906403}}, {13: {' do': -1.7719508}}, {14: {' not': -1.6240566e-06}}, {15: {' have': -0.042758908}}, {16: {' a': -0.0010332842}}, {17: {' personal': -0.12784202}}, {18: {' name': -0.0021756007}}, {19: {'.': -0.010752903}}, {20: {' You': -0.20428574}}, {21: {' can': -0.06249281}}, {22: {' refer': -0.97949636}}, {23: {' to': -5.5122365e-07}}, {24: {' me': -1.1994775e-05}}, {25: {' as': -0.00021378823}}, {26: {' Open': -0.50302887}}, {27: {'AI': -1.0564331e-05}}, {28: {' Assistant': -0.14758372}}, {29: {'.': -0.03794623}}, {30: {' How': -0.042728756}}, {31: {' can': -0.16591592}}, {32: {' I': -2.220075e-06}}, {33: {' assist': -0.01756234}}, {34: {' you': -9.0883464e-07}}, {35: {' today': -0.017176561}}, {36: {'?': -0.00016694854}}]\n"
     ]
    }
   ],
   "source": [
    "token_logprob = [{count: {value.token: value.logprob}} for count, value in enumerate(chat.choices[0].logprobs.content)]\n",
    "print(token_logprob)\n",
    "\n",
    "# {count:value.token for count, value in enumerate(chat.choices[0].logprobs.content)} \n",
    "# print(token_dict)"
   ]
  },
  {
   "cell_type": "code",
   "execution_count": 5,
   "metadata": {},
   "outputs": [],
   "source": [
    "message = agent.give_response(chat)"
   ]
  },
  {
   "cell_type": "code",
   "execution_count": null,
   "metadata": {},
   "outputs": [],
   "source": []
  }
 ],
 "metadata": {
  "kernelspec": {
   "display_name": "testenv",
   "language": "python",
   "name": "python3"
  },
  "language_info": {
   "codemirror_mode": {
    "name": "ipython",
    "version": 3
   },
   "file_extension": ".py",
   "mimetype": "text/x-python",
   "name": "python",
   "nbconvert_exporter": "python",
   "pygments_lexer": "ipython3",
   "version": "3.11.5"
  }
 },
 "nbformat": 4,
 "nbformat_minor": 2
}
